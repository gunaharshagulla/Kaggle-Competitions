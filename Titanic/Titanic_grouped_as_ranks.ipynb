{
 "cells": [
  {
   "cell_type": "code",
   "execution_count": 1,
   "id": "8d3d6701",
   "metadata": {
    "_cell_guid": "b1076dfc-b9ad-4769-8c92-a6c4dae69d19",
    "_uuid": "8f2839f25d086af736a60e9eeb907d3b93b6e0e5",
    "execution": {
     "iopub.execute_input": "2025-04-14T06:33:10.807645Z",
     "iopub.status.busy": "2025-04-14T06:33:10.807114Z",
     "iopub.status.idle": "2025-04-14T06:33:12.763619Z",
     "shell.execute_reply": "2025-04-14T06:33:12.762370Z"
    },
    "papermill": {
     "duration": 1.964061,
     "end_time": "2025-04-14T06:33:12.765241",
     "exception": false,
     "start_time": "2025-04-14T06:33:10.801180",
     "status": "completed"
    },
    "tags": []
   },
   "outputs": [
    {
     "name": "stdout",
     "output_type": "stream",
     "text": [
      "/kaggle/input/titanic/train.csv\n",
      "/kaggle/input/titanic/test.csv\n",
      "/kaggle/input/titanic/gender_submission.csv\n"
     ]
    }
   ],
   "source": [
    "# This Python 3 environment comes with many helpful analytics libraries installed\n",
    "# It is defined by the kaggle/python Docker image: https://github.com/kaggle/docker-python\n",
    "# For example, here's several helpful packages to load\n",
    "\n",
    "import numpy as np # linear algebra\n",
    "import pandas as pd # data processing, CSV file I/O (e.g. pd.read_csv)\n",
    "\n",
    "# Input data files are available in the read-only \"../input/\" directory\n",
    "# For example, running this (by clicking run or pressing Shift+Enter) will list all files under the input directory\n",
    "\n",
    "import os\n",
    "for dirname, _, filenames in os.walk('/kaggle/input'):\n",
    "    for filename in filenames:\n",
    "        print(os.path.join(dirname, filename))\n",
    "\n",
    "# You can write up to 20GB to the current directory (/kaggle/working/) that gets preserved as output when you create a version using \"Save & Run All\" \n",
    "# You can also write temporary files to /kaggle/temp/, but they won't be saved outside of the current session"
   ]
  },
  {
   "cell_type": "code",
   "execution_count": 2,
   "id": "56cef03d",
   "metadata": {
    "execution": {
     "iopub.execute_input": "2025-04-14T06:33:12.774638Z",
     "iopub.status.busy": "2025-04-14T06:33:12.774247Z",
     "iopub.status.idle": "2025-04-14T06:33:14.678605Z",
     "shell.execute_reply": "2025-04-14T06:33:14.677604Z"
    },
    "papermill": {
     "duration": 1.910865,
     "end_time": "2025-04-14T06:33:14.680432",
     "exception": false,
     "start_time": "2025-04-14T06:33:12.769567",
     "status": "completed"
    },
    "tags": []
   },
   "outputs": [],
   "source": [
    "# classifier models\n",
    "from sklearn.linear_model import LogisticRegression\n",
    "from sklearn.ensemble import RandomForestClassifier\n",
    "from sklearn.model_selection import GridSearchCV\n",
    "# modules to handle data\n",
    "import pandas as pd\n",
    "import numpy as np\n",
    "import warnings"
   ]
  },
  {
   "cell_type": "code",
   "execution_count": 3,
   "id": "359c36d4",
   "metadata": {
    "execution": {
     "iopub.execute_input": "2025-04-14T06:33:14.689383Z",
     "iopub.status.busy": "2025-04-14T06:33:14.688917Z",
     "iopub.status.idle": "2025-04-14T06:33:14.730576Z",
     "shell.execute_reply": "2025-04-14T06:33:14.729549Z"
    },
    "papermill": {
     "duration": 0.047921,
     "end_time": "2025-04-14T06:33:14.732239",
     "exception": false,
     "start_time": "2025-04-14T06:33:14.684318",
     "status": "completed"
    },
    "tags": []
   },
   "outputs": [],
   "source": [
    "train = pd.read_csv(\"/kaggle/input/titanic/train.csv\")\n",
    "test = pd.read_csv(\"/kaggle/input/titanic/test.csv\")\n",
    "Passenger_id =test.PassengerId\n",
    "titanic = pd.concat([train,test])\n",
    "titanic.head()\n",
    "\n",
    "train_idx = len(train)\n",
    "test_idx = len(titanic)-len(test)"
   ]
  },
  {
   "cell_type": "code",
   "execution_count": 4,
   "id": "7e9aa905",
   "metadata": {
    "execution": {
     "iopub.execute_input": "2025-04-14T06:33:14.741138Z",
     "iopub.status.busy": "2025-04-14T06:33:14.740751Z",
     "iopub.status.idle": "2025-04-14T06:33:14.749128Z",
     "shell.execute_reply": "2025-04-14T06:33:14.748278Z"
    },
    "papermill": {
     "duration": 0.014413,
     "end_time": "2025-04-14T06:33:14.750667",
     "exception": false,
     "start_time": "2025-04-14T06:33:14.736254",
     "status": "completed"
    },
    "tags": []
   },
   "outputs": [
    {
     "data": {
      "text/plain": [
       "PassengerId      int64\n",
       "Pclass           int64\n",
       "SibSp            int64\n",
       "Parch            int64\n",
       "Survived       float64\n",
       "Age            float64\n",
       "Fare           float64\n",
       "Name            object\n",
       "Sex             object\n",
       "Ticket          object\n",
       "Cabin           object\n",
       "Embarked        object\n",
       "dtype: object"
      ]
     },
     "execution_count": 4,
     "metadata": {},
     "output_type": "execute_result"
    }
   ],
   "source": [
    "titanic.dtypes.sort_values()"
   ]
  },
  {
   "cell_type": "code",
   "execution_count": 5,
   "id": "6a064ee9",
   "metadata": {
    "execution": {
     "iopub.execute_input": "2025-04-14T06:33:14.765210Z",
     "iopub.status.busy": "2025-04-14T06:33:14.764735Z",
     "iopub.status.idle": "2025-04-14T06:33:14.879378Z",
     "shell.execute_reply": "2025-04-14T06:33:14.878326Z"
    },
    "papermill": {
     "duration": 0.123985,
     "end_time": "2025-04-14T06:33:14.880866",
     "exception": false,
     "start_time": "2025-04-14T06:33:14.756881",
     "status": "completed"
    },
    "tags": []
   },
   "outputs": [
    {
     "name": "stdout",
     "output_type": "stream",
     "text": [
      "<class 'pandas.core.frame.DataFrame'>\n",
      "Index: 1309 entries, 0 to 417\n",
      "Data columns (total 12 columns):\n",
      " #   Column       Non-Null Count  Dtype  \n",
      "---  ------       --------------  -----  \n",
      " 0   PassengerId  1309 non-null   int64  \n",
      " 1   Survived     891 non-null    float64\n",
      " 2   Pclass       1309 non-null   int64  \n",
      " 3   Name         1309 non-null   object \n",
      " 4   Sex          1309 non-null   object \n",
      " 5   Age          1046 non-null   float64\n",
      " 6   SibSp        1309 non-null   int64  \n",
      " 7   Parch        1309 non-null   int64  \n",
      " 8   Ticket       1309 non-null   object \n",
      " 9   Fare         1308 non-null   float64\n",
      " 10  Cabin        295 non-null    object \n",
      " 11  Embarked     1307 non-null   object \n",
      "dtypes: float64(3), int64(4), object(5)\n",
      "memory usage: 132.9+ KB\n"
     ]
    }
   ],
   "source": [
    "titanic.info()"
   ]
  },
  {
   "cell_type": "code",
   "execution_count": 6,
   "id": "249dc28a",
   "metadata": {
    "execution": {
     "iopub.execute_input": "2025-04-14T06:33:14.890223Z",
     "iopub.status.busy": "2025-04-14T06:33:14.889856Z",
     "iopub.status.idle": "2025-04-14T06:33:14.901729Z",
     "shell.execute_reply": "2025-04-14T06:33:14.900490Z"
    },
    "papermill": {
     "duration": 0.018265,
     "end_time": "2025-04-14T06:33:14.903420",
     "exception": false,
     "start_time": "2025-04-14T06:33:14.885155",
     "status": "completed"
    },
    "tags": []
   },
   "outputs": [
    {
     "name": "stdout",
     "output_type": "stream",
     "text": [
      "<class 'pandas.core.frame.DataFrame'>\n",
      "RangeIndex: 418 entries, 0 to 417\n",
      "Data columns (total 11 columns):\n",
      " #   Column       Non-Null Count  Dtype  \n",
      "---  ------       --------------  -----  \n",
      " 0   PassengerId  418 non-null    int64  \n",
      " 1   Pclass       418 non-null    int64  \n",
      " 2   Name         418 non-null    object \n",
      " 3   Sex          418 non-null    object \n",
      " 4   Age          332 non-null    float64\n",
      " 5   SibSp        418 non-null    int64  \n",
      " 6   Parch        418 non-null    int64  \n",
      " 7   Ticket       418 non-null    object \n",
      " 8   Fare         417 non-null    float64\n",
      " 9   Cabin        91 non-null     object \n",
      " 10  Embarked     418 non-null    object \n",
      "dtypes: float64(2), int64(4), object(5)\n",
      "memory usage: 36.1+ KB\n"
     ]
    }
   ],
   "source": [
    "test.info()"
   ]
  },
  {
   "cell_type": "code",
   "execution_count": 7,
   "id": "90e04833",
   "metadata": {
    "execution": {
     "iopub.execute_input": "2025-04-14T06:33:14.913573Z",
     "iopub.status.busy": "2025-04-14T06:33:14.912822Z",
     "iopub.status.idle": "2025-04-14T06:33:14.919866Z",
     "shell.execute_reply": "2025-04-14T06:33:14.918867Z"
    },
    "papermill": {
     "duration": 0.013732,
     "end_time": "2025-04-14T06:33:14.921479",
     "exception": false,
     "start_time": "2025-04-14T06:33:14.907747",
     "status": "completed"
    },
    "tags": []
   },
   "outputs": [],
   "source": [
    "titanic['Title'] = titanic.Name.apply(lambda x:x.split(',')[1].split('.')[0].strip())\n"
   ]
  },
  {
   "cell_type": "code",
   "execution_count": 8,
   "id": "ec3dd2bc",
   "metadata": {
    "execution": {
     "iopub.execute_input": "2025-04-14T06:33:14.930618Z",
     "iopub.status.busy": "2025-04-14T06:33:14.930304Z",
     "iopub.status.idle": "2025-04-14T06:33:14.938965Z",
     "shell.execute_reply": "2025-04-14T06:33:14.937982Z"
    },
    "papermill": {
     "duration": 0.014955,
     "end_time": "2025-04-14T06:33:14.940412",
     "exception": false,
     "start_time": "2025-04-14T06:33:14.925457",
     "status": "completed"
    },
    "tags": []
   },
   "outputs": [
    {
     "name": "stdout",
     "output_type": "stream",
     "text": [
      "Title\n",
      "Mr         757\n",
      "Miss       262\n",
      "Mrs        200\n",
      "Master      61\n",
      "Officer     23\n",
      "Royalty      6\n",
      "Name: count, dtype: int64\n"
     ]
    }
   ],
   "source": [
    "normal_ranks = {\n",
    "    \"Capt\":       \"Officer\",\n",
    "    \"Col\":        \"Officer\",\n",
    "    \"Major\":      \"Officer\",\n",
    "    \"Jonkheer\":   \"Royalty\",\n",
    "    \"Don\":        \"Royalty\",\n",
    "    \"Sir\" :       \"Royalty\",\n",
    "    \"Dr\":         \"Officer\",\n",
    "    \"Rev\":        \"Officer\",\n",
    "    \"the Countess\":\"Royalty\",\n",
    "    \"Dona\":       \"Royalty\",\n",
    "    \"Mme\":        \"Mrs\",\n",
    "    \"Mlle\":       \"Miss\",\n",
    "    \"Ms\":         \"Mrs\",\n",
    "    \"Mr\" :        \"Mr\",\n",
    "    \"Mrs\" :       \"Mrs\",\n",
    "    \"Miss\" :      \"Miss\",\n",
    "    \"Master\" :    \"Master\",\n",
    "    \"Lady\" :      \"Royalty\"\n",
    "}\n",
    "\n",
    "titanic['Title'] = titanic.Title.map(normal_ranks)\n",
    "print(titanic.Title.value_counts())"
   ]
  },
  {
   "cell_type": "code",
   "execution_count": 9,
   "id": "62e93898",
   "metadata": {
    "execution": {
     "iopub.execute_input": "2025-04-14T06:33:14.950314Z",
     "iopub.status.busy": "2025-04-14T06:33:14.949894Z",
     "iopub.status.idle": "2025-04-14T06:33:14.965872Z",
     "shell.execute_reply": "2025-04-14T06:33:14.965096Z"
    },
    "papermill": {
     "duration": 0.022389,
     "end_time": "2025-04-14T06:33:14.967377",
     "exception": false,
     "start_time": "2025-04-14T06:33:14.944988",
     "status": "completed"
    },
    "tags": []
   },
   "outputs": [
    {
     "data": {
      "text/plain": [
       "Pclass  Sex     Title  \n",
       "1       female  Miss       30.0\n",
       "                Mrs        45.0\n",
       "                Officer    49.0\n",
       "                Royalty    39.0\n",
       "        male    Master      6.0\n",
       "                Mr         41.5\n",
       "                Officer    52.0\n",
       "                Royalty    40.0\n",
       "2       female  Miss       20.0\n",
       "                Mrs        30.0\n",
       "        male    Master      2.0\n",
       "                Mr         30.0\n",
       "                Officer    41.5\n",
       "3       female  Miss       18.0\n",
       "                Mrs        31.0\n",
       "        male    Master      6.0\n",
       "                Mr         26.0\n",
       "Name: Age, dtype: float64"
      ]
     },
     "execution_count": 9,
     "metadata": {},
     "output_type": "execute_result"
    }
   ],
   "source": [
    "grouped = titanic.groupby(['Pclass','Sex','Title'])\n",
    "grouped.Age.median()"
   ]
  },
  {
   "cell_type": "code",
   "execution_count": 10,
   "id": "4654cda4",
   "metadata": {
    "execution": {
     "iopub.execute_input": "2025-04-14T06:33:14.976728Z",
     "iopub.status.busy": "2025-04-14T06:33:14.976433Z",
     "iopub.status.idle": "2025-04-14T06:33:15.000302Z",
     "shell.execute_reply": "2025-04-14T06:33:14.999003Z"
    },
    "papermill": {
     "duration": 0.030362,
     "end_time": "2025-04-14T06:33:15.001849",
     "exception": false,
     "start_time": "2025-04-14T06:33:14.971487",
     "status": "completed"
    },
    "tags": []
   },
   "outputs": [
    {
     "name": "stdout",
     "output_type": "stream",
     "text": [
      "<class 'pandas.core.frame.DataFrame'>\n",
      "Index: 1309 entries, 0 to 417\n",
      "Data columns (total 13 columns):\n",
      " #   Column       Non-Null Count  Dtype  \n",
      "---  ------       --------------  -----  \n",
      " 0   PassengerId  1309 non-null   int64  \n",
      " 1   Survived     891 non-null    float64\n",
      " 2   Pclass       1309 non-null   int64  \n",
      " 3   Name         1309 non-null   object \n",
      " 4   Sex          1309 non-null   object \n",
      " 5   Age          1309 non-null   float64\n",
      " 6   SibSp        1309 non-null   int64  \n",
      " 7   Parch        1309 non-null   int64  \n",
      " 8   Ticket       1309 non-null   object \n",
      " 9   Fare         1309 non-null   float64\n",
      " 10  Cabin        1309 non-null   object \n",
      " 11  Embarked     1309 non-null   object \n",
      " 12  Title        1309 non-null   object \n",
      "dtypes: float64(3), int64(4), object(6)\n",
      "memory usage: 143.2+ KB\n"
     ]
    }
   ],
   "source": [
    "titanic['Age'] = grouped.Age.transform(lambda x: x.fillna(x.median()))\n",
    "titanic['Cabin'] = titanic['Cabin'].fillna('U')\n",
    "most_embarked = titanic.Embarked.value_counts().index[0]\n",
    "titanic.Embarked = titanic.Embarked.fillna(most_embarked)\n",
    "titanic.Fare = titanic.Fare.fillna(titanic.Fare.median())\n",
    "\n",
    "titanic.info()"
   ]
  },
  {
   "cell_type": "code",
   "execution_count": 11,
   "id": "28b043d5",
   "metadata": {
    "execution": {
     "iopub.execute_input": "2025-04-14T06:33:15.011502Z",
     "iopub.status.busy": "2025-04-14T06:33:15.011200Z",
     "iopub.status.idle": "2025-04-14T06:33:15.053064Z",
     "shell.execute_reply": "2025-04-14T06:33:15.052072Z"
    },
    "papermill": {
     "duration": 0.048395,
     "end_time": "2025-04-14T06:33:15.054548",
     "exception": false,
     "start_time": "2025-04-14T06:33:15.006153",
     "status": "completed"
    },
    "tags": []
   },
   "outputs": [
    {
     "data": {
      "text/html": [
       "<div>\n",
       "<style scoped>\n",
       "    .dataframe tbody tr th:only-of-type {\n",
       "        vertical-align: middle;\n",
       "    }\n",
       "\n",
       "    .dataframe tbody tr th {\n",
       "        vertical-align: top;\n",
       "    }\n",
       "\n",
       "    .dataframe thead th {\n",
       "        text-align: right;\n",
       "    }\n",
       "</style>\n",
       "<table border=\"1\" class=\"dataframe\">\n",
       "  <thead>\n",
       "    <tr style=\"text-align: right;\">\n",
       "      <th></th>\n",
       "      <th>PassengerId</th>\n",
       "      <th>Survived</th>\n",
       "      <th>Sex</th>\n",
       "      <th>Age</th>\n",
       "      <th>SibSp</th>\n",
       "      <th>Parch</th>\n",
       "      <th>Fare</th>\n",
       "      <th>Fam</th>\n",
       "      <th>Pclass_1</th>\n",
       "      <th>Pclass_2</th>\n",
       "      <th>...</th>\n",
       "      <th>Cabin_C</th>\n",
       "      <th>Cabin_D</th>\n",
       "      <th>Cabin_E</th>\n",
       "      <th>Cabin_F</th>\n",
       "      <th>Cabin_G</th>\n",
       "      <th>Cabin_T</th>\n",
       "      <th>Cabin_U</th>\n",
       "      <th>Embarked_C</th>\n",
       "      <th>Embarked_Q</th>\n",
       "      <th>Embarked_S</th>\n",
       "    </tr>\n",
       "  </thead>\n",
       "  <tbody>\n",
       "    <tr>\n",
       "      <th>0</th>\n",
       "      <td>1</td>\n",
       "      <td>0.0</td>\n",
       "      <td>0</td>\n",
       "      <td>22.0</td>\n",
       "      <td>1</td>\n",
       "      <td>0</td>\n",
       "      <td>7.2500</td>\n",
       "      <td>2</td>\n",
       "      <td>False</td>\n",
       "      <td>False</td>\n",
       "      <td>...</td>\n",
       "      <td>False</td>\n",
       "      <td>False</td>\n",
       "      <td>False</td>\n",
       "      <td>False</td>\n",
       "      <td>False</td>\n",
       "      <td>False</td>\n",
       "      <td>True</td>\n",
       "      <td>False</td>\n",
       "      <td>False</td>\n",
       "      <td>True</td>\n",
       "    </tr>\n",
       "    <tr>\n",
       "      <th>1</th>\n",
       "      <td>2</td>\n",
       "      <td>1.0</td>\n",
       "      <td>1</td>\n",
       "      <td>38.0</td>\n",
       "      <td>1</td>\n",
       "      <td>0</td>\n",
       "      <td>71.2833</td>\n",
       "      <td>2</td>\n",
       "      <td>True</td>\n",
       "      <td>False</td>\n",
       "      <td>...</td>\n",
       "      <td>True</td>\n",
       "      <td>False</td>\n",
       "      <td>False</td>\n",
       "      <td>False</td>\n",
       "      <td>False</td>\n",
       "      <td>False</td>\n",
       "      <td>False</td>\n",
       "      <td>True</td>\n",
       "      <td>False</td>\n",
       "      <td>False</td>\n",
       "    </tr>\n",
       "    <tr>\n",
       "      <th>2</th>\n",
       "      <td>3</td>\n",
       "      <td>1.0</td>\n",
       "      <td>1</td>\n",
       "      <td>26.0</td>\n",
       "      <td>0</td>\n",
       "      <td>0</td>\n",
       "      <td>7.9250</td>\n",
       "      <td>1</td>\n",
       "      <td>False</td>\n",
       "      <td>False</td>\n",
       "      <td>...</td>\n",
       "      <td>False</td>\n",
       "      <td>False</td>\n",
       "      <td>False</td>\n",
       "      <td>False</td>\n",
       "      <td>False</td>\n",
       "      <td>False</td>\n",
       "      <td>True</td>\n",
       "      <td>False</td>\n",
       "      <td>False</td>\n",
       "      <td>True</td>\n",
       "    </tr>\n",
       "    <tr>\n",
       "      <th>3</th>\n",
       "      <td>4</td>\n",
       "      <td>1.0</td>\n",
       "      <td>1</td>\n",
       "      <td>35.0</td>\n",
       "      <td>1</td>\n",
       "      <td>0</td>\n",
       "      <td>53.1000</td>\n",
       "      <td>2</td>\n",
       "      <td>True</td>\n",
       "      <td>False</td>\n",
       "      <td>...</td>\n",
       "      <td>True</td>\n",
       "      <td>False</td>\n",
       "      <td>False</td>\n",
       "      <td>False</td>\n",
       "      <td>False</td>\n",
       "      <td>False</td>\n",
       "      <td>False</td>\n",
       "      <td>False</td>\n",
       "      <td>False</td>\n",
       "      <td>True</td>\n",
       "    </tr>\n",
       "    <tr>\n",
       "      <th>4</th>\n",
       "      <td>5</td>\n",
       "      <td>0.0</td>\n",
       "      <td>0</td>\n",
       "      <td>35.0</td>\n",
       "      <td>0</td>\n",
       "      <td>0</td>\n",
       "      <td>8.0500</td>\n",
       "      <td>1</td>\n",
       "      <td>False</td>\n",
       "      <td>False</td>\n",
       "      <td>...</td>\n",
       "      <td>False</td>\n",
       "      <td>False</td>\n",
       "      <td>False</td>\n",
       "      <td>False</td>\n",
       "      <td>False</td>\n",
       "      <td>False</td>\n",
       "      <td>True</td>\n",
       "      <td>False</td>\n",
       "      <td>False</td>\n",
       "      <td>True</td>\n",
       "    </tr>\n",
       "  </tbody>\n",
       "</table>\n",
       "<p>5 rows × 29 columns</p>\n",
       "</div>"
      ],
      "text/plain": [
       "   PassengerId  Survived  Sex   Age  SibSp  Parch     Fare  Fam  Pclass_1  \\\n",
       "0            1       0.0    0  22.0      1      0   7.2500    2     False   \n",
       "1            2       1.0    1  38.0      1      0  71.2833    2      True   \n",
       "2            3       1.0    1  26.0      0      0   7.9250    1     False   \n",
       "3            4       1.0    1  35.0      1      0  53.1000    2      True   \n",
       "4            5       0.0    0  35.0      0      0   8.0500    1     False   \n",
       "\n",
       "   Pclass_2  ...  Cabin_C  Cabin_D  Cabin_E  Cabin_F  Cabin_G  Cabin_T  \\\n",
       "0     False  ...    False    False    False    False    False    False   \n",
       "1     False  ...     True    False    False    False    False    False   \n",
       "2     False  ...    False    False    False    False    False    False   \n",
       "3     False  ...     True    False    False    False    False    False   \n",
       "4     False  ...    False    False    False    False    False    False   \n",
       "\n",
       "   Cabin_U  Embarked_C  Embarked_Q  Embarked_S  \n",
       "0     True       False       False        True  \n",
       "1    False        True       False       False  \n",
       "2     True       False       False        True  \n",
       "3    False       False       False        True  \n",
       "4     True       False       False        True  \n",
       "\n",
       "[5 rows x 29 columns]"
      ]
     },
     "execution_count": 11,
     "metadata": {},
     "output_type": "execute_result"
    }
   ],
   "source": [
    "titanic['Cabin'] = titanic['Cabin'].map(lambda x:x[0])\n",
    "titanic[\"Fam\"] = titanic['Parch'] + titanic['SibSp'] +1\n",
    "titanic.Sex = titanic.Sex.map({\"male\": 0, \"female\":1})\n",
    "\n",
    "pclass_dummies = pd.get_dummies(titanic.Pclass, prefix=\"Pclass\")\n",
    "title_dummies = pd.get_dummies(titanic.Title, prefix=\"Title\")\n",
    "cabin_dummies = pd.get_dummies(titanic.Cabin, prefix=\"Cabin\")\n",
    "embarked_dummies = pd.get_dummies(titanic.Embarked, prefix=\"Embarked\")\n",
    "\n",
    "titanic_dummies = pd.concat([titanic, pclass_dummies, title_dummies, cabin_dummies, embarked_dummies], axis=1)\n",
    "\n",
    "titanic_dummies.drop(['Pclass', 'Title', 'Cabin', 'Embarked', 'Name', 'Ticket'], axis=1, inplace=True)\n",
    "\n",
    "titanic_dummies.head()"
   ]
  },
  {
   "cell_type": "code",
   "execution_count": 12,
   "id": "07ecc70d",
   "metadata": {
    "execution": {
     "iopub.execute_input": "2025-04-14T06:33:15.065192Z",
     "iopub.status.busy": "2025-04-14T06:33:15.064347Z",
     "iopub.status.idle": "2025-04-14T06:33:15.070633Z",
     "shell.execute_reply": "2025-04-14T06:33:15.069716Z"
    },
    "papermill": {
     "duration": 0.012843,
     "end_time": "2025-04-14T06:33:15.072019",
     "exception": false,
     "start_time": "2025-04-14T06:33:15.059176",
     "status": "completed"
    },
    "tags": []
   },
   "outputs": [
    {
     "name": "stderr",
     "output_type": "stream",
     "text": [
      "/tmp/ipykernel_13/3710624305.py:3: SettingWithCopyWarning: \n",
      "A value is trying to be set on a copy of a slice from a DataFrame.\n",
      "Try using .loc[row_indexer,col_indexer] = value instead\n",
      "\n",
      "See the caveats in the documentation: https://pandas.pydata.org/pandas-docs/stable/user_guide/indexing.html#returning-a-view-versus-a-copy\n",
      "  train.Survived= train.Survived.astype(int)\n"
     ]
    }
   ],
   "source": [
    "train = titanic_dummies[:train_idx]\n",
    "test = titanic_dummies[test_idx:]\n",
    "train.Survived= train.Survived.astype(int)"
   ]
  },
  {
   "cell_type": "code",
   "execution_count": 13,
   "id": "7de9ce15",
   "metadata": {
    "execution": {
     "iopub.execute_input": "2025-04-14T06:33:15.081862Z",
     "iopub.status.busy": "2025-04-14T06:33:15.081576Z",
     "iopub.status.idle": "2025-04-14T06:33:15.088848Z",
     "shell.execute_reply": "2025-04-14T06:33:15.088154Z"
    },
    "papermill": {
     "duration": 0.013749,
     "end_time": "2025-04-14T06:33:15.090164",
     "exception": false,
     "start_time": "2025-04-14T06:33:15.076415",
     "status": "completed"
    },
    "tags": []
   },
   "outputs": [],
   "source": [
    "X = train.drop('Survived', axis=1).values \n",
    "y = train.Survived.values\n",
    "\n",
    "X_test = test.drop('Survived', axis=1).values"
   ]
  },
  {
   "cell_type": "code",
   "execution_count": 14,
   "id": "e79d27ef",
   "metadata": {
    "execution": {
     "iopub.execute_input": "2025-04-14T06:33:15.100557Z",
     "iopub.status.busy": "2025-04-14T06:33:15.099904Z",
     "iopub.status.idle": "2025-04-14T06:33:15.104955Z",
     "shell.execute_reply": "2025-04-14T06:33:15.104221Z"
    },
    "papermill": {
     "duration": 0.011752,
     "end_time": "2025-04-14T06:33:15.106449",
     "exception": false,
     "start_time": "2025-04-14T06:33:15.094697",
     "status": "completed"
    },
    "tags": []
   },
   "outputs": [],
   "source": [
    "forrest_params = dict(     \n",
    "    max_depth = [n for n in range(9, 14)],     \n",
    "    min_samples_split = [n for n in range(4, 11)], \n",
    "    min_samples_leaf = [n for n in range(2, 5)],     \n",
    "    n_estimators = [n for n in range(10, 60, 10)],\n",
    ")"
   ]
  },
  {
   "cell_type": "raw",
   "id": "2d3373cf",
   "metadata": {
    "papermill": {
     "duration": 0.004129,
     "end_time": "2025-04-14T06:33:15.115267",
     "exception": false,
     "start_time": "2025-04-14T06:33:15.111138",
     "status": "completed"
    },
    "tags": []
   },
   "source": []
  },
  {
   "cell_type": "code",
   "execution_count": 15,
   "id": "095d1357",
   "metadata": {
    "execution": {
     "iopub.execute_input": "2025-04-14T06:33:15.124919Z",
     "iopub.status.busy": "2025-04-14T06:33:15.124605Z",
     "iopub.status.idle": "2025-04-14T06:35:40.759398Z",
     "shell.execute_reply": "2025-04-14T06:35:40.758653Z"
    },
    "papermill": {
     "duration": 145.646812,
     "end_time": "2025-04-14T06:35:40.766300",
     "exception": false,
     "start_time": "2025-04-14T06:33:15.119488",
     "status": "completed"
    },
    "tags": []
   },
   "outputs": [
    {
     "data": {
      "text/html": [
       "<style>#sk-container-id-1 {color: black;background-color: white;}#sk-container-id-1 pre{padding: 0;}#sk-container-id-1 div.sk-toggleable {background-color: white;}#sk-container-id-1 label.sk-toggleable__label {cursor: pointer;display: block;width: 100%;margin-bottom: 0;padding: 0.3em;box-sizing: border-box;text-align: center;}#sk-container-id-1 label.sk-toggleable__label-arrow:before {content: \"▸\";float: left;margin-right: 0.25em;color: #696969;}#sk-container-id-1 label.sk-toggleable__label-arrow:hover:before {color: black;}#sk-container-id-1 div.sk-estimator:hover label.sk-toggleable__label-arrow:before {color: black;}#sk-container-id-1 div.sk-toggleable__content {max-height: 0;max-width: 0;overflow: hidden;text-align: left;background-color: #f0f8ff;}#sk-container-id-1 div.sk-toggleable__content pre {margin: 0.2em;color: black;border-radius: 0.25em;background-color: #f0f8ff;}#sk-container-id-1 input.sk-toggleable__control:checked~div.sk-toggleable__content {max-height: 200px;max-width: 100%;overflow: auto;}#sk-container-id-1 input.sk-toggleable__control:checked~label.sk-toggleable__label-arrow:before {content: \"▾\";}#sk-container-id-1 div.sk-estimator input.sk-toggleable__control:checked~label.sk-toggleable__label {background-color: #d4ebff;}#sk-container-id-1 div.sk-label input.sk-toggleable__control:checked~label.sk-toggleable__label {background-color: #d4ebff;}#sk-container-id-1 input.sk-hidden--visually {border: 0;clip: rect(1px 1px 1px 1px);clip: rect(1px, 1px, 1px, 1px);height: 1px;margin: -1px;overflow: hidden;padding: 0;position: absolute;width: 1px;}#sk-container-id-1 div.sk-estimator {font-family: monospace;background-color: #f0f8ff;border: 1px dotted black;border-radius: 0.25em;box-sizing: border-box;margin-bottom: 0.5em;}#sk-container-id-1 div.sk-estimator:hover {background-color: #d4ebff;}#sk-container-id-1 div.sk-parallel-item::after {content: \"\";width: 100%;border-bottom: 1px solid gray;flex-grow: 1;}#sk-container-id-1 div.sk-label:hover label.sk-toggleable__label {background-color: #d4ebff;}#sk-container-id-1 div.sk-serial::before {content: \"\";position: absolute;border-left: 1px solid gray;box-sizing: border-box;top: 0;bottom: 0;left: 50%;z-index: 0;}#sk-container-id-1 div.sk-serial {display: flex;flex-direction: column;align-items: center;background-color: white;padding-right: 0.2em;padding-left: 0.2em;position: relative;}#sk-container-id-1 div.sk-item {position: relative;z-index: 1;}#sk-container-id-1 div.sk-parallel {display: flex;align-items: stretch;justify-content: center;background-color: white;position: relative;}#sk-container-id-1 div.sk-item::before, #sk-container-id-1 div.sk-parallel-item::before {content: \"\";position: absolute;border-left: 1px solid gray;box-sizing: border-box;top: 0;bottom: 0;left: 50%;z-index: -1;}#sk-container-id-1 div.sk-parallel-item {display: flex;flex-direction: column;z-index: 1;position: relative;background-color: white;}#sk-container-id-1 div.sk-parallel-item:first-child::after {align-self: flex-end;width: 50%;}#sk-container-id-1 div.sk-parallel-item:last-child::after {align-self: flex-start;width: 50%;}#sk-container-id-1 div.sk-parallel-item:only-child::after {width: 0;}#sk-container-id-1 div.sk-dashed-wrapped {border: 1px dashed gray;margin: 0 0.4em 0.5em 0.4em;box-sizing: border-box;padding-bottom: 0.4em;background-color: white;}#sk-container-id-1 div.sk-label label {font-family: monospace;font-weight: bold;display: inline-block;line-height: 1.2em;}#sk-container-id-1 div.sk-label-container {text-align: center;}#sk-container-id-1 div.sk-container {/* jupyter's `normalize.less` sets `[hidden] { display: none; }` but bootstrap.min.css set `[hidden] { display: none !important; }` so we also need the `!important` here to be able to override the default hidden behavior on the sphinx rendered scikit-learn.org. See: https://github.com/scikit-learn/scikit-learn/issues/21755 */display: inline-block !important;position: relative;}#sk-container-id-1 div.sk-text-repr-fallback {display: none;}</style><div id=\"sk-container-id-1\" class=\"sk-top-container\"><div class=\"sk-text-repr-fallback\"><pre>GridSearchCV(cv=5, estimator=RandomForestClassifier(),\n",
       "             param_grid={&#x27;max_depth&#x27;: [9, 10, 11, 12, 13],\n",
       "                         &#x27;min_samples_leaf&#x27;: [2, 3, 4],\n",
       "                         &#x27;min_samples_split&#x27;: [4, 5, 6, 7, 8, 9, 10],\n",
       "                         &#x27;n_estimators&#x27;: [10, 20, 30, 40, 50]})</pre><b>In a Jupyter environment, please rerun this cell to show the HTML representation or trust the notebook. <br />On GitHub, the HTML representation is unable to render, please try loading this page with nbviewer.org.</b></div><div class=\"sk-container\" hidden><div class=\"sk-item sk-dashed-wrapped\"><div class=\"sk-label-container\"><div class=\"sk-label sk-toggleable\"><input class=\"sk-toggleable__control sk-hidden--visually\" id=\"sk-estimator-id-1\" type=\"checkbox\" ><label for=\"sk-estimator-id-1\" class=\"sk-toggleable__label sk-toggleable__label-arrow\">GridSearchCV</label><div class=\"sk-toggleable__content\"><pre>GridSearchCV(cv=5, estimator=RandomForestClassifier(),\n",
       "             param_grid={&#x27;max_depth&#x27;: [9, 10, 11, 12, 13],\n",
       "                         &#x27;min_samples_leaf&#x27;: [2, 3, 4],\n",
       "                         &#x27;min_samples_split&#x27;: [4, 5, 6, 7, 8, 9, 10],\n",
       "                         &#x27;n_estimators&#x27;: [10, 20, 30, 40, 50]})</pre></div></div></div><div class=\"sk-parallel\"><div class=\"sk-parallel-item\"><div class=\"sk-item\"><div class=\"sk-label-container\"><div class=\"sk-label sk-toggleable\"><input class=\"sk-toggleable__control sk-hidden--visually\" id=\"sk-estimator-id-2\" type=\"checkbox\" ><label for=\"sk-estimator-id-2\" class=\"sk-toggleable__label sk-toggleable__label-arrow\">estimator: RandomForestClassifier</label><div class=\"sk-toggleable__content\"><pre>RandomForestClassifier()</pre></div></div></div><div class=\"sk-serial\"><div class=\"sk-item\"><div class=\"sk-estimator sk-toggleable\"><input class=\"sk-toggleable__control sk-hidden--visually\" id=\"sk-estimator-id-3\" type=\"checkbox\" ><label for=\"sk-estimator-id-3\" class=\"sk-toggleable__label sk-toggleable__label-arrow\">RandomForestClassifier</label><div class=\"sk-toggleable__content\"><pre>RandomForestClassifier()</pre></div></div></div></div></div></div></div></div></div></div>"
      ],
      "text/plain": [
       "GridSearchCV(cv=5, estimator=RandomForestClassifier(),\n",
       "             param_grid={'max_depth': [9, 10, 11, 12, 13],\n",
       "                         'min_samples_leaf': [2, 3, 4],\n",
       "                         'min_samples_split': [4, 5, 6, 7, 8, 9, 10],\n",
       "                         'n_estimators': [10, 20, 30, 40, 50]})"
      ]
     },
     "execution_count": 15,
     "metadata": {},
     "output_type": "execute_result"
    }
   ],
   "source": [
    "forrest = RandomForestClassifier()\n",
    "forest_cv = GridSearchCV(estimator=forrest, param_grid=forrest_params, cv=5) \n",
    "forest_cv.fit(X, y)"
   ]
  },
  {
   "cell_type": "code",
   "execution_count": 16,
   "id": "aa56ef79",
   "metadata": {
    "execution": {
     "iopub.execute_input": "2025-04-14T06:35:40.777092Z",
     "iopub.status.busy": "2025-04-14T06:35:40.776771Z",
     "iopub.status.idle": "2025-04-14T06:35:40.782435Z",
     "shell.execute_reply": "2025-04-14T06:35:40.781457Z"
    },
    "papermill": {
     "duration": 0.012933,
     "end_time": "2025-04-14T06:35:40.783837",
     "exception": false,
     "start_time": "2025-04-14T06:35:40.770904",
     "status": "completed"
    },
    "tags": []
   },
   "outputs": [
    {
     "name": "stdout",
     "output_type": "stream",
     "text": [
      "Best score: 0.8395016006528152\n",
      "Optimal params: RandomForestClassifier(max_depth=12, min_samples_leaf=3, min_samples_split=5,\n",
      "                       n_estimators=50)\n"
     ]
    }
   ],
   "source": [
    "print(\"Best score: {}\".format(forest_cv.best_score_))\n",
    "print(\"Optimal params: {}\".format(forest_cv.best_estimator_))"
   ]
  },
  {
   "cell_type": "code",
   "execution_count": 17,
   "id": "59566630",
   "metadata": {
    "execution": {
     "iopub.execute_input": "2025-04-14T06:35:40.794493Z",
     "iopub.status.busy": "2025-04-14T06:35:40.794186Z",
     "iopub.status.idle": "2025-04-14T06:35:40.805457Z",
     "shell.execute_reply": "2025-04-14T06:35:40.804632Z"
    },
    "papermill": {
     "duration": 0.018512,
     "end_time": "2025-04-14T06:35:40.807061",
     "exception": false,
     "start_time": "2025-04-14T06:35:40.788549",
     "status": "completed"
    },
    "tags": []
   },
   "outputs": [],
   "source": [
    "forrest_pred = forest_cv.predict(X_test)"
   ]
  },
  {
   "cell_type": "code",
   "execution_count": 18,
   "id": "ea2a9360",
   "metadata": {
    "execution": {
     "iopub.execute_input": "2025-04-14T06:35:40.817823Z",
     "iopub.status.busy": "2025-04-14T06:35:40.817532Z",
     "iopub.status.idle": "2025-04-14T06:35:40.828338Z",
     "shell.execute_reply": "2025-04-14T06:35:40.827363Z"
    },
    "papermill": {
     "duration": 0.018149,
     "end_time": "2025-04-14T06:35:40.830019",
     "exception": false,
     "start_time": "2025-04-14T06:35:40.811870",
     "status": "completed"
    },
    "tags": []
   },
   "outputs": [],
   "source": [
    "kaggle = pd.DataFrame({'PassengerId': Passenger_id, 'Survived': forrest_pred})\n",
    "kaggle.to_csv('/kaggle/working//titanic_pred.csv', index=False)"
   ]
  }
 ],
 "metadata": {
  "kaggle": {
   "accelerator": "none",
   "dataSources": [
    {
     "databundleVersionId": 26502,
     "sourceId": 3136,
     "sourceType": "competition"
    }
   ],
   "dockerImageVersionId": 31012,
   "isGpuEnabled": false,
   "isInternetEnabled": true,
   "language": "python",
   "sourceType": "notebook"
  },
  "kernelspec": {
   "display_name": "Python 3",
   "language": "python",
   "name": "python3"
  },
  "language_info": {
   "codemirror_mode": {
    "name": "ipython",
    "version": 3
   },
   "file_extension": ".py",
   "mimetype": "text/x-python",
   "name": "python",
   "nbconvert_exporter": "python",
   "pygments_lexer": "ipython3",
   "version": "3.11.11"
  },
  "papermill": {
   "default_parameters": {},
   "duration": 155.482717,
   "end_time": "2025-04-14T06:35:41.555474",
   "environment_variables": {},
   "exception": null,
   "input_path": "__notebook__.ipynb",
   "output_path": "__notebook__.ipynb",
   "parameters": {},
   "start_time": "2025-04-14T06:33:06.072757",
   "version": "2.6.0"
  }
 },
 "nbformat": 4,
 "nbformat_minor": 5
}
